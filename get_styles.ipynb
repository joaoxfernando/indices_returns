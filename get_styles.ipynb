{
 "cells": [
  {
   "cell_type": "code",
   "execution_count": 7,
   "metadata": {},
   "outputs": [
    {
     "name": "stdout",
     "output_type": "stream",
     "text": [
      "Available styles:\n",
      "Solarize_Light2\n",
      "_classic_test_patch\n",
      "_mpl-gallery\n",
      "_mpl-gallery-nogrid\n",
      "bmh\n",
      "classic\n",
      "dark_background\n",
      "fast\n",
      "fivethirtyeight\n",
      "ggplot\n",
      "grayscale\n",
      "petroff10\n",
      "seaborn-v0_8\n",
      "seaborn-v0_8-bright\n",
      "seaborn-v0_8-colorblind\n",
      "seaborn-v0_8-dark\n",
      "seaborn-v0_8-dark-palette\n",
      "seaborn-v0_8-darkgrid\n",
      "seaborn-v0_8-deep\n",
      "seaborn-v0_8-muted\n",
      "seaborn-v0_8-notebook\n",
      "seaborn-v0_8-paper\n",
      "seaborn-v0_8-pastel\n",
      "seaborn-v0_8-poster\n",
      "seaborn-v0_8-talk\n",
      "seaborn-v0_8-ticks\n",
      "seaborn-v0_8-white\n",
      "seaborn-v0_8-whitegrid\n",
      "tableau-colorblind10\n"
     ]
    }
   ],
   "source": [
    "import plot \n",
    "\n",
    "styles = plot.mp_styles()\n",
    "print('Available styles:')\n",
    "print(*(style for style in styles), sep='\\n')"
   ]
  },
  {
   "cell_type": "code",
   "execution_count": null,
   "metadata": {},
   "outputs": [],
   "source": []
  }
 ],
 "metadata": {
  "kernelspec": {
   "display_name": "Python 3",
   "language": "python",
   "name": "python3"
  },
  "language_info": {
   "codemirror_mode": {
    "name": "ipython",
    "version": 3
   },
   "file_extension": ".py",
   "mimetype": "text/x-python",
   "name": "python",
   "nbconvert_exporter": "python",
   "pygments_lexer": "ipython3",
   "version": "3.13.1"
  }
 },
 "nbformat": 4,
 "nbformat_minor": 2
}
